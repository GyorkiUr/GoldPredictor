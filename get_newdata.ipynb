{
 "cells": [
  {
   "cell_type": "code",
   "execution_count": null,
   "metadata": {},
   "outputs": [
    {
     "name": "stdout",
     "output_type": "stream",
     "text": [
      "               Open     High      Low    Close  Volume\n",
      "Date                                                  \n",
      "2024-09-20  2587.22  2625.55  2584.92  2621.74    3235\n",
      "2024-09-22  2621.89  2621.89  2621.89  2621.89       1\n",
      "2024-09-23  2619.36  2634.56  2613.74  2626.17    3452\n",
      "2024-09-24  2625.84  2664.03  2622.63  2658.03    3553\n",
      "2024-09-25  2657.70  2669.70  2650.55  2656.76    3527\n",
      "...             ...      ...      ...      ...     ...\n",
      "2024-12-03  2642.25  2654.97  2634.64  2642.62    3576\n",
      "2024-12-04  2642.87  2656.42  2633.47  2650.18    3574\n",
      "2024-12-05  2650.00  2655.33  2623.57  2633.62    3579\n",
      "2024-12-06  2632.90  2645.16  2613.71  2632.14    3401\n",
      "2024-12-08  2632.14  2647.67  2632.14  2639.20     137\n",
      "\n",
      "[67 rows x 5 columns]\n"
     ]
    }
   ],
   "source": [
    "import requests\n",
    "import pandas as pd\n",
    "from datetime import datetime, timedelta\n",
    "\n",
    "# Replace 'YOUR_API_KEY' with your actual Polygon.io API key\n",
    "api_key = 'yourApiKey'\n",
    "\n",
    "\n",
    "###########https://api.polygon.io/v2/aggs/ticker/C:XAUUSD/range/1/day/2024-09-20/2024-12-08?adjusted=false&sort=asc&apiKey=yourApiKey\n",
    "# Define the API endpoint and parameters\n",
    "base_url = 'https://api.polygon.io/v2/aggs/ticker/C:XAUUSD/range/1/day'\n",
    "start_date = '2024-09-20'  # Start date (YYYY-MM-DD)\n",
    "end_date = (datetime.today() - timedelta(days=1)).strftime('%Y-%m-%d')  # Yesterday's date\n",
    "\n",
    "# Construct the URL\n",
    "url = f\"{base_url}/{start_date}/{end_date}?adjusted=false&sort=asc&apiKey={api_key}\"\n",
    "\n",
    "# Make the API request\n",
    "response = requests.get(url)\n",
    "data = response.json()\n",
    "\n",
    "# Check for success\n",
    "if response.status_code == 200 and data['status'] == 'OK':\n",
    "    # Extract results into a DataFrame\n",
    "    results = data.get('results', [])\n",
    "    df = pd.DataFrame(results)\n",
    "\n",
    "    # Convert the timestamp to a readable date format\n",
    "    df['Date'] = pd.to_datetime(df['t'], unit='ms')\n",
    "    df.rename(columns={\n",
    "        'o': 'Open',\n",
    "        'h': 'High',\n",
    "        'l': 'Low',\n",
    "        'c': 'Close',\n",
    "        'v': 'Volume'\n",
    "    }, inplace=True)\n",
    "\n",
    "    # Select and reorder columns\n",
    "    df = df[['Date', 'Open', 'High', 'Low', 'Close', 'Volume']]\n",
    "    df.set_index('Date', inplace=True)\n",
    "\n",
    "    # Display the DataFrame\n",
    "    print(df)\n",
    "\n",
    "    df.to_csv('current_data.csv')\n",
    "else:\n",
    "    print(f\"Error fetching data: {data.get('error', 'Unknown error')}\")\n"
   ]
  }
 ],
 "metadata": {
  "kernelspec": {
   "display_name": "myenv",
   "language": "python",
   "name": "python3"
  },
  "language_info": {
   "codemirror_mode": {
    "name": "ipython",
    "version": 3
   },
   "file_extension": ".py",
   "mimetype": "text/x-python",
   "name": "python",
   "nbconvert_exporter": "python",
   "pygments_lexer": "ipython3",
   "version": "3.11.2"
  }
 },
 "nbformat": 4,
 "nbformat_minor": 2
}
